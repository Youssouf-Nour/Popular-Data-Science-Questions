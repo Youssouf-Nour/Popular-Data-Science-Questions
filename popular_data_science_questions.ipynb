{
 "cells": [
  {
   "cell_type": "markdown",
   "metadata": {},
   "source": [
    "## Guided Project: Popular Data Science Questions\n",
    "---"
   ]
  },
  {
   "cell_type": "markdown",
   "metadata": {},
   "source": [
    "We are working for a company that creates data science content, be it books, online articles, videos or interactive text-based platforms. In this guided project, we are tasked with figuring out what is best content to write about.\n",
    "\n",
    "We decide to scour the internet in search for the answer to the question \"What is it that people want to learn about in data science?\"\n",
    "\n",
    "We decide to investigate Stack Exchange, a question and answer website network. Stack Exchange hosts sites on a multitude of fields and subjects, including mathematics, physics, philosophy, and data science.\n",
    "\n",
    "After a spending some time investigating the website, we decide that the tags will be very useful in categorizing content, saving us the trouble of us having to do it ourselves.\n",
    "\n",
    "Stack Exchange employs a reputation award system for its questions and answers. Each post — each question/answer — is a post that is subject to upvotes and downvotes. This ensures that good posts are easily identifiable.\n",
    "\n",
    "Stack Exchange provides a public data base for each of its websites. Here's a link to query and explore Data Science Stack Exchange's database: https://data.stackexchange.com/datascience/query/new"
   ]
  },
  {
   "cell_type": "markdown",
   "metadata": {},
   "source": [
    "### Description of data columns"
   ]
  },
  {
   "cell_type": "markdown",
   "metadata": {
    "collapsed": true
   },
   "source": [
    "The post table has a lot of columns. We will focus our attention on the follwing ones which are relevant towards our goal:\n",
    "Id: An identification number for the post.\n",
    "PostTypeId: An identification number for the type of post.\n",
    "\n",
    "| Column      | Description|\n",
    "|:-------------|:------------|\n",
    "|Id           |An identification number for the post|\n",
    "|PostTypeId           |An identification number for the type of post|\n",
    "|CreationDate           |The date and time of creation of the post|\n",
    "|Score           |The post's score|\n",
    "|ViewCount           |How many times the post was viewed|\n",
    "|Tags           |What tags were used|\n",
    "|AnswerCount           |How many answers the question got (only applicable to question posts)|\n",
    "|FavoriteCount           |How many times the question was favored (only applicable to question posts)|"
   ]
  },
  {
   "cell_type": "markdown",
   "metadata": {
    "collapsed": true
   },
   "source": [
    "We run a query against the SEDE DSSE database that extracts the columns listed above for all the questions in 2019. The result of the query was stored in a file called 2019_questions.csv."
   ]
  },
  {
   "cell_type": "markdown",
   "metadata": {},
   "source": [
    "#### Import necessary libraries"
   ]
  },
  {
   "cell_type": "code",
   "execution_count": 1,
   "metadata": {
    "collapsed": true
   },
   "outputs": [],
   "source": [
    "# We import everything that we'll use\n",
    "\n",
    "import pandas as pd\n",
    "import matplotlib.pyplot as plt\n",
    "import seaborn as sns\n",
    "\n",
    "%matplotlib inline"
   ]
  },
  {
   "cell_type": "markdown",
   "metadata": {},
   "source": [
    "#### Read the dataset"
   ]
  },
  {
   "cell_type": "code",
   "execution_count": 2,
   "metadata": {
    "collapsed": true
   },
   "outputs": [],
   "source": [
    "df = pd.read_csv(\"2019_questions.csv\", parse_dates=[\"CreationDate\"])"
   ]
  },
  {
   "cell_type": "code",
   "execution_count": 3,
   "metadata": {
    "collapsed": false
   },
   "outputs": [
    {
     "name": "stdout",
     "output_type": "stream",
     "text": [
      "<class 'pandas.core.frame.DataFrame'>\n",
      "RangeIndex: 8839 entries, 0 to 8838\n",
      "Data columns (total 7 columns):\n",
      "Id               8839 non-null int64\n",
      "CreationDate     8839 non-null datetime64[ns]\n",
      "Score            8839 non-null int64\n",
      "ViewCount        8839 non-null int64\n",
      "Tags             8839 non-null object\n",
      "AnswerCount      8839 non-null int64\n",
      "FavoriteCount    1407 non-null float64\n",
      "dtypes: datetime64[ns](1), float64(1), int64(4), object(1)\n",
      "memory usage: 483.5+ KB\n",
      "None\n"
     ]
    }
   ],
   "source": [
    "print(df.info())"
   ]
  },
  {
   "cell_type": "code",
   "execution_count": 4,
   "metadata": {
    "collapsed": false
   },
   "outputs": [
    {
     "data": {
      "text/plain": [
       "Id                  0\n",
       "CreationDate        0\n",
       "Score               0\n",
       "ViewCount           0\n",
       "Tags                0\n",
       "AnswerCount         0\n",
       "FavoriteCount    7432\n",
       "dtype: int64"
      ]
     },
     "execution_count": 4,
     "metadata": {},
     "output_type": "execute_result"
    }
   ],
   "source": [
    "# Missing values\n",
    "df.isnull().sum()"
   ]
  },
  {
   "cell_type": "code",
   "execution_count": 5,
   "metadata": {
    "collapsed": false
   },
   "outputs": [
    {
     "data": {
      "text/plain": [
       "Id                0.00000\n",
       "CreationDate      0.00000\n",
       "Score             0.00000\n",
       "ViewCount         0.00000\n",
       "Tags              0.00000\n",
       "AnswerCount       0.00000\n",
       "FavoriteCount    84.08191\n",
       "dtype: float64"
      ]
     },
     "execution_count": 5,
     "metadata": {},
     "output_type": "execute_result"
    }
   ],
   "source": [
    "#Percentage of missing values\n",
    "df.isnull().sum()/df.shape[0]*100"
   ]
  },
  {
   "cell_type": "markdown",
   "metadata": {},
   "source": [
    "We see that only `FavoriteCount` has missing values. A missing value on this column probably means that the question was is not present in any users' favorite list, so we can replace the missing values with zero.\n",
    "\n",
    "The types seem adequate for every column, however, after we fill in the missing values on `FavoriteCount`, there is no reason to store the values as floats.\n",
    "\n",
    "Since the `object` dtype is a catch-all type, let's see what types the objects in `questions[\"Tags\"]` are."
   ]
  },
  {
   "cell_type": "code",
   "execution_count": 6,
   "metadata": {
    "collapsed": false
   },
   "outputs": [
    {
     "data": {
      "text/plain": [
       "array([<class 'str'>], dtype=object)"
      ]
     },
     "execution_count": 6,
     "metadata": {},
     "output_type": "execute_result"
    }
   ],
   "source": [
    "df[\"Tags\"].apply(lambda value: type(value)).unique()"
   ]
  },
  {
   "cell_type": "markdown",
   "metadata": {},
   "source": [
    "#### Cleaning the Data"
   ]
  },
  {
   "cell_type": "code",
   "execution_count": 7,
   "metadata": {
    "collapsed": true
   },
   "outputs": [],
   "source": [
    "#Fill in the missing values with 0\n",
    "df = df.fillna(0)"
   ]
  },
  {
   "cell_type": "markdown",
   "metadata": {},
   "source": [
    "Set the types of each column"
   ]
  },
  {
   "cell_type": "code",
   "execution_count": 8,
   "metadata": {
    "collapsed": false
   },
   "outputs": [
    {
     "name": "stdout",
     "output_type": "stream",
     "text": [
      "<class 'pandas.core.frame.DataFrame'>\n",
      "RangeIndex: 8839 entries, 0 to 8838\n",
      "Data columns (total 7 columns):\n",
      "Id               8839 non-null int64\n",
      "CreationDate     8839 non-null datetime64[ns]\n",
      "Score            8839 non-null int64\n",
      "ViewCount        8839 non-null int64\n",
      "Tags             8839 non-null object\n",
      "AnswerCount      8839 non-null int64\n",
      "FavoriteCount    8839 non-null int64\n",
      "dtypes: datetime64[ns](1), int64(5), object(1)\n",
      "memory usage: 483.5+ KB\n",
      "None\n"
     ]
    }
   ],
   "source": [
    "df['CreationDate'] = df['CreationDate'].astype('datetime64[ns]')\n",
    "df['FavoriteCount'] = df['FavoriteCount'].astype('int')\n",
    "print(df.info())"
   ]
  },
  {
   "cell_type": "markdown",
   "metadata": {},
   "source": [
    "Clean the Tags column and assign it back to itself:"
   ]
  },
  {
   "cell_type": "code",
   "execution_count": 9,
   "metadata": {
    "collapsed": false
   },
   "outputs": [],
   "source": [
    "df[\"Tags\"] = df[\"Tags\"].str.replace(\"^<|>$\", \"\").str.split(\"><\")\n"
   ]
  },
  {
   "cell_type": "code",
   "execution_count": 10,
   "metadata": {
    "collapsed": false
   },
   "outputs": [
    {
     "name": "stdout",
     "output_type": "stream",
     "text": [
      "0                      [machine-learning, data-mining]\n",
      "1    [machine-learning, regression, linear-regressi...\n",
      "2         [python, time-series, forecast, forecasting]\n",
      "3                [machine-learning, scikit-learn, pca]\n",
      "4             [dataset, bigdata, data, speech-to-text]\n",
      "5                                        [fuzzy-logic]\n",
      "6    [time-series, anomaly-detection, online-learning]\n",
      "7                               [matrix-factorisation]\n",
      "8                [correlation, naive-bayes-classifier]\n",
      "9    [machine-learning, python, deep-learning, kera...\n",
      "Name: Tags, dtype: object\n"
     ]
    }
   ],
   "source": [
    "print(df[\"Tags\"].head(10))"
   ]
  },
  {
   "cell_type": "code",
   "execution_count": 11,
   "metadata": {
    "collapsed": false
   },
   "outputs": [
    {
     "data": {
      "text/html": [
       "<div>\n",
       "<style scoped>\n",
       "    .dataframe tbody tr th:only-of-type {\n",
       "        vertical-align: middle;\n",
       "    }\n",
       "\n",
       "    .dataframe tbody tr th {\n",
       "        vertical-align: top;\n",
       "    }\n",
       "\n",
       "    .dataframe thead th {\n",
       "        text-align: right;\n",
       "    }\n",
       "</style>\n",
       "<table border=\"1\" class=\"dataframe\">\n",
       "  <thead>\n",
       "    <tr style=\"text-align: right;\">\n",
       "      <th></th>\n",
       "      <th>Id</th>\n",
       "      <th>CreationDate</th>\n",
       "      <th>Score</th>\n",
       "      <th>ViewCount</th>\n",
       "      <th>Tags</th>\n",
       "      <th>AnswerCount</th>\n",
       "      <th>FavoriteCount</th>\n",
       "    </tr>\n",
       "  </thead>\n",
       "  <tbody>\n",
       "    <tr>\n",
       "      <th>2461</th>\n",
       "      <td>47572</td>\n",
       "      <td>2019-03-19 02:51:26</td>\n",
       "      <td>0</td>\n",
       "      <td>30</td>\n",
       "      <td>[data-mining, dataset, data-cleaning, sql, tex...</td>\n",
       "      <td>0</td>\n",
       "      <td>1</td>\n",
       "    </tr>\n",
       "    <tr>\n",
       "      <th>3927</th>\n",
       "      <td>49222</td>\n",
       "      <td>2019-04-13 01:05:42</td>\n",
       "      <td>0</td>\n",
       "      <td>19</td>\n",
       "      <td>[neural-network, image-classification]</td>\n",
       "      <td>1</td>\n",
       "      <td>0</td>\n",
       "    </tr>\n",
       "    <tr>\n",
       "      <th>2899</th>\n",
       "      <td>60128</td>\n",
       "      <td>2019-09-12 17:51:29</td>\n",
       "      <td>1</td>\n",
       "      <td>6</td>\n",
       "      <td>[image-classification, computer-vision, image-...</td>\n",
       "      <td>0</td>\n",
       "      <td>0</td>\n",
       "    </tr>\n",
       "  </tbody>\n",
       "</table>\n",
       "</div>"
      ],
      "text/plain": [
       "         Id        CreationDate  Score  ViewCount  \\\n",
       "2461  47572 2019-03-19 02:51:26      0         30   \n",
       "3927  49222 2019-04-13 01:05:42      0         19   \n",
       "2899  60128 2019-09-12 17:51:29      1          6   \n",
       "\n",
       "                                                   Tags  AnswerCount  \\\n",
       "2461  [data-mining, dataset, data-cleaning, sql, tex...            0   \n",
       "3927             [neural-network, image-classification]            1   \n",
       "2899  [image-classification, computer-vision, image-...            0   \n",
       "\n",
       "      FavoriteCount  \n",
       "2461              1  \n",
       "3927              0  \n",
       "2899              0  "
      ]
     },
     "execution_count": 11,
     "metadata": {},
     "output_type": "execute_result"
    }
   ],
   "source": [
    "df.sample(3)"
   ]
  },
  {
   "cell_type": "markdown",
   "metadata": {
    "collapsed": true
   },
   "source": [
    "#### Most Used and Most Viewed\n"
   ]
  },
  {
   "cell_type": "code",
   "execution_count": 12,
   "metadata": {
    "collapsed": false,
    "scrolled": false
   },
   "outputs": [],
   "source": [
    "# Most used tags\n",
    "tags_count={}\n",
    "            \n",
    "for t in df[\"Tags\"]:\n",
    "    for tag in t:\n",
    "        if tag in tags_count:\n",
    "            tags_count[tag] += 1\n",
    "        else:\n",
    "            tags_count[tag] = 1"
   ]
  },
  {
   "cell_type": "code",
   "execution_count": 13,
   "metadata": {
    "collapsed": false
   },
   "outputs": [],
   "source": [
    "#Transform tags_count into a dataframe\n",
    "tags_count = pd.DataFrame.from_dict(tags_count, orient=\"index\")\n",
    "tags_count.rename(columns={0: \"Count\"}, inplace=True)"
   ]
  },
  {
   "cell_type": "code",
   "execution_count": 14,
   "metadata": {
    "collapsed": false
   },
   "outputs": [
    {
     "data": {
      "text/html": [
       "<div>\n",
       "<style scoped>\n",
       "    .dataframe tbody tr th:only-of-type {\n",
       "        vertical-align: middle;\n",
       "    }\n",
       "\n",
       "    .dataframe tbody tr th {\n",
       "        vertical-align: top;\n",
       "    }\n",
       "\n",
       "    .dataframe thead th {\n",
       "        text-align: right;\n",
       "    }\n",
       "</style>\n",
       "<table border=\"1\" class=\"dataframe\">\n",
       "  <thead>\n",
       "    <tr style=\"text-align: right;\">\n",
       "      <th></th>\n",
       "      <th>Count</th>\n",
       "    </tr>\n",
       "  </thead>\n",
       "  <tbody>\n",
       "    <tr>\n",
       "      <th>machine-learning-model</th>\n",
       "      <td>224</td>\n",
       "    </tr>\n",
       "    <tr>\n",
       "      <th>statistics</th>\n",
       "      <td>234</td>\n",
       "    </tr>\n",
       "    <tr>\n",
       "      <th>clustering</th>\n",
       "      <td>257</td>\n",
       "    </tr>\n",
       "    <tr>\n",
       "      <th>predictive-modeling</th>\n",
       "      <td>265</td>\n",
       "    </tr>\n",
       "    <tr>\n",
       "      <th>r</th>\n",
       "      <td>268</td>\n",
       "    </tr>\n",
       "    <tr>\n",
       "      <th>dataset</th>\n",
       "      <td>340</td>\n",
       "    </tr>\n",
       "    <tr>\n",
       "      <th>regression</th>\n",
       "      <td>347</td>\n",
       "    </tr>\n",
       "    <tr>\n",
       "      <th>pandas</th>\n",
       "      <td>354</td>\n",
       "    </tr>\n",
       "    <tr>\n",
       "      <th>lstm</th>\n",
       "      <td>402</td>\n",
       "    </tr>\n",
       "    <tr>\n",
       "      <th>time-series</th>\n",
       "      <td>466</td>\n",
       "    </tr>\n",
       "    <tr>\n",
       "      <th>cnn</th>\n",
       "      <td>489</td>\n",
       "    </tr>\n",
       "    <tr>\n",
       "      <th>nlp</th>\n",
       "      <td>493</td>\n",
       "    </tr>\n",
       "    <tr>\n",
       "      <th>scikit-learn</th>\n",
       "      <td>540</td>\n",
       "    </tr>\n",
       "    <tr>\n",
       "      <th>tensorflow</th>\n",
       "      <td>584</td>\n",
       "    </tr>\n",
       "    <tr>\n",
       "      <th>classification</th>\n",
       "      <td>685</td>\n",
       "    </tr>\n",
       "    <tr>\n",
       "      <th>keras</th>\n",
       "      <td>935</td>\n",
       "    </tr>\n",
       "    <tr>\n",
       "      <th>neural-network</th>\n",
       "      <td>1055</td>\n",
       "    </tr>\n",
       "    <tr>\n",
       "      <th>deep-learning</th>\n",
       "      <td>1220</td>\n",
       "    </tr>\n",
       "    <tr>\n",
       "      <th>python</th>\n",
       "      <td>1814</td>\n",
       "    </tr>\n",
       "    <tr>\n",
       "      <th>machine-learning</th>\n",
       "      <td>2693</td>\n",
       "    </tr>\n",
       "  </tbody>\n",
       "</table>\n",
       "</div>"
      ],
      "text/plain": [
       "                        Count\n",
       "machine-learning-model    224\n",
       "statistics                234\n",
       "clustering                257\n",
       "predictive-modeling       265\n",
       "r                         268\n",
       "dataset                   340\n",
       "regression                347\n",
       "pandas                    354\n",
       "lstm                      402\n",
       "time-series               466\n",
       "cnn                       489\n",
       "nlp                       493\n",
       "scikit-learn              540\n",
       "tensorflow                584\n",
       "classification            685\n",
       "keras                     935\n",
       "neural-network           1055\n",
       "deep-learning            1220\n",
       "python                   1814\n",
       "machine-learning         2693"
      ]
     },
     "execution_count": 14,
     "metadata": {},
     "output_type": "execute_result"
    }
   ],
   "source": [
    "#Most 20 used tags\n",
    "most_used = tags_count.sort_values(by=\"Count\").tail(20)\n",
    "most_used"
   ]
  },
  {
   "cell_type": "code",
   "execution_count": 15,
   "metadata": {
    "collapsed": false
   },
   "outputs": [
    {
     "data": {
      "text/plain": [
       "<matplotlib.axes._subplots.AxesSubplot at 0x7fcaaddd4470>"
      ]
     },
     "execution_count": 15,
     "metadata": {},
     "output_type": "execute_result"
    },
    {
     "data": {
      "image/png": "[encoded data removed]",
      "text/plain": [
       "<matplotlib.figure.Figure at 0x7fcaadb4bcc0>"
      ]
     },
     "metadata": {},
     "output_type": "display_data"
    }
   ],
   "source": [
    "# Visualization for the 20 most used tags\n",
    "most_used.plot(kind=\"barh\", figsize=(16,8))\n"
   ]
  },
  {
   "cell_type": "code",
   "execution_count": 16,
   "metadata": {
    "collapsed": false
   },
   "outputs": [
    {
     "data": {
      "text/html": [
       "<div>\n",
       "<style scoped>\n",
       "    .dataframe tbody tr th:only-of-type {\n",
       "        vertical-align: middle;\n",
       "    }\n",
       "\n",
       "    .dataframe tbody tr th {\n",
       "        vertical-align: top;\n",
       "    }\n",
       "\n",
       "    .dataframe thead th {\n",
       "        text-align: right;\n",
       "    }\n",
       "</style>\n",
       "<table border=\"1\" class=\"dataframe\">\n",
       "  <thead>\n",
       "    <tr style=\"text-align: right;\">\n",
       "      <th></th>\n",
       "      <th>ViewCount</th>\n",
       "    </tr>\n",
       "  </thead>\n",
       "  <tbody>\n",
       "    <tr>\n",
       "      <th>clustering</th>\n",
       "      <td>33928</td>\n",
       "    </tr>\n",
       "    <tr>\n",
       "      <th>csv</th>\n",
       "      <td>38654</td>\n",
       "    </tr>\n",
       "    <tr>\n",
       "      <th>pytorch</th>\n",
       "      <td>40240</td>\n",
       "    </tr>\n",
       "    <tr>\n",
       "      <th>dataset</th>\n",
       "      <td>43151</td>\n",
       "    </tr>\n",
       "    <tr>\n",
       "      <th>regression</th>\n",
       "      <td>49451</td>\n",
       "    </tr>\n",
       "    <tr>\n",
       "      <th>numpy</th>\n",
       "      <td>49767</td>\n",
       "    </tr>\n",
       "    <tr>\n",
       "      <th>time-series</th>\n",
       "      <td>64134</td>\n",
       "    </tr>\n",
       "    <tr>\n",
       "      <th>cnn</th>\n",
       "      <td>70349</td>\n",
       "    </tr>\n",
       "    <tr>\n",
       "      <th>nlp</th>\n",
       "      <td>71382</td>\n",
       "    </tr>\n",
       "    <tr>\n",
       "      <th>lstm</th>\n",
       "      <td>74458</td>\n",
       "    </tr>\n",
       "    <tr>\n",
       "      <th>dataframe</th>\n",
       "      <td>89352</td>\n",
       "    </tr>\n",
       "    <tr>\n",
       "      <th>classification</th>\n",
       "      <td>104457</td>\n",
       "    </tr>\n",
       "    <tr>\n",
       "      <th>tensorflow</th>\n",
       "      <td>121369</td>\n",
       "    </tr>\n",
       "    <tr>\n",
       "      <th>scikit-learn</th>\n",
       "      <td>128110</td>\n",
       "    </tr>\n",
       "    <tr>\n",
       "      <th>neural-network</th>\n",
       "      <td>185367</td>\n",
       "    </tr>\n",
       "    <tr>\n",
       "      <th>pandas</th>\n",
       "      <td>201787</td>\n",
       "    </tr>\n",
       "    <tr>\n",
       "      <th>deep-learning</th>\n",
       "      <td>233628</td>\n",
       "    </tr>\n",
       "    <tr>\n",
       "      <th>keras</th>\n",
       "      <td>268608</td>\n",
       "    </tr>\n",
       "    <tr>\n",
       "      <th>machine-learning</th>\n",
       "      <td>388499</td>\n",
       "    </tr>\n",
       "    <tr>\n",
       "      <th>python</th>\n",
       "      <td>537585</td>\n",
       "    </tr>\n",
       "  </tbody>\n",
       "</table>\n",
       "</div>"
      ],
      "text/plain": [
       "                  ViewCount\n",
       "clustering            33928\n",
       "csv                   38654\n",
       "pytorch               40240\n",
       "dataset               43151\n",
       "regression            49451\n",
       "numpy                 49767\n",
       "time-series           64134\n",
       "cnn                   70349\n",
       "nlp                   71382\n",
       "lstm                  74458\n",
       "dataframe             89352\n",
       "classification       104457\n",
       "tensorflow           121369\n",
       "scikit-learn         128110\n",
       "neural-network       185367\n",
       "pandas               201787\n",
       "deep-learning        233628\n",
       "keras                268608\n",
       "machine-learning     388499\n",
       "python               537585"
      ]
     },
     "execution_count": 16,
     "metadata": {},
     "output_type": "execute_result"
    }
   ],
   "source": [
    "# Most viewed tags\n",
    "tags_view_count = dict()\n",
    "\n",
    "for index, row in df.iterrows():\n",
    "    for tag in row['Tags']:\n",
    "        if tag in tags_view_count:\n",
    "            tags_view_count[tag] += row['ViewCount']\n",
    "        else:\n",
    "            tags_view_count[tag] = row['ViewCount']\n",
    "            \n",
    "tags_view_count = pd.DataFrame.from_dict(tags_view_count, orient=\"index\")\n",
    "tags_view_count.rename(columns={0: \"ViewCount\"}, inplace=True)\n",
    "\n",
    "most_viewed = tags_view_count.sort_values(by=\"ViewCount\").tail(20)\n",
    "\n",
    "most_viewed"
   ]
  },
  {
   "cell_type": "code",
   "execution_count": 17,
   "metadata": {
    "collapsed": false
   },
   "outputs": [
    {
     "data": {
      "text/plain": [
       "<matplotlib.axes._subplots.AxesSubplot at 0x7fcaad0fdb00>"
      ]
     },
     "execution_count": 17,
     "metadata": {},
     "output_type": "execute_result"
    },
    {
     "data": {
      "image/png": "[encoded data removed]",
      "text/plain": [
       "<matplotlib.figure.Figure at 0x7fcaad0de668>"
      ]
     },
     "metadata": {},
     "output_type": "display_data"
    }
   ],
   "source": [
    "# Visualization for the 20 most viewed tags\n",
    "most_viewed.plot(kind=\"barh\", figsize=(16,8))"
   ]
  },
  {
   "cell_type": "markdown",
   "metadata": {},
   "source": [
    "Tags are in most_used, but not in most_viewed."
   ]
  },
  {
   "cell_type": "code",
   "execution_count": 18,
   "metadata": {
    "collapsed": false
   },
   "outputs": [
    {
     "data": {
      "text/html": [
       "<div>\n",
       "<style scoped>\n",
       "    .dataframe tbody tr th:only-of-type {\n",
       "        vertical-align: middle;\n",
       "    }\n",
       "\n",
       "    .dataframe tbody tr th {\n",
       "        vertical-align: top;\n",
       "    }\n",
       "\n",
       "    .dataframe thead th {\n",
       "        text-align: right;\n",
       "    }\n",
       "</style>\n",
       "<table border=\"1\" class=\"dataframe\">\n",
       "  <thead>\n",
       "    <tr style=\"text-align: right;\">\n",
       "      <th></th>\n",
       "      <th>Count</th>\n",
       "      <th>ViewCount</th>\n",
       "    </tr>\n",
       "  </thead>\n",
       "  <tbody>\n",
       "    <tr>\n",
       "      <th>machine-learning-model</th>\n",
       "      <td>224</td>\n",
       "      <td>NaN</td>\n",
       "    </tr>\n",
       "    <tr>\n",
       "      <th>statistics</th>\n",
       "      <td>234</td>\n",
       "      <td>NaN</td>\n",
       "    </tr>\n",
       "    <tr>\n",
       "      <th>clustering</th>\n",
       "      <td>257</td>\n",
       "      <td>33928.0</td>\n",
       "    </tr>\n",
       "    <tr>\n",
       "      <th>predictive-modeling</th>\n",
       "      <td>265</td>\n",
       "      <td>NaN</td>\n",
       "    </tr>\n",
       "    <tr>\n",
       "      <th>r</th>\n",
       "      <td>268</td>\n",
       "      <td>NaN</td>\n",
       "    </tr>\n",
       "    <tr>\n",
       "      <th>dataset</th>\n",
       "      <td>340</td>\n",
       "      <td>43151.0</td>\n",
       "    </tr>\n",
       "    <tr>\n",
       "      <th>regression</th>\n",
       "      <td>347</td>\n",
       "      <td>49451.0</td>\n",
       "    </tr>\n",
       "    <tr>\n",
       "      <th>pandas</th>\n",
       "      <td>354</td>\n",
       "      <td>201787.0</td>\n",
       "    </tr>\n",
       "    <tr>\n",
       "      <th>lstm</th>\n",
       "      <td>402</td>\n",
       "      <td>74458.0</td>\n",
       "    </tr>\n",
       "    <tr>\n",
       "      <th>time-series</th>\n",
       "      <td>466</td>\n",
       "      <td>64134.0</td>\n",
       "    </tr>\n",
       "    <tr>\n",
       "      <th>cnn</th>\n",
       "      <td>489</td>\n",
       "      <td>70349.0</td>\n",
       "    </tr>\n",
       "    <tr>\n",
       "      <th>nlp</th>\n",
       "      <td>493</td>\n",
       "      <td>71382.0</td>\n",
       "    </tr>\n",
       "    <tr>\n",
       "      <th>scikit-learn</th>\n",
       "      <td>540</td>\n",
       "      <td>128110.0</td>\n",
       "    </tr>\n",
       "    <tr>\n",
       "      <th>tensorflow</th>\n",
       "      <td>584</td>\n",
       "      <td>121369.0</td>\n",
       "    </tr>\n",
       "    <tr>\n",
       "      <th>classification</th>\n",
       "      <td>685</td>\n",
       "      <td>104457.0</td>\n",
       "    </tr>\n",
       "    <tr>\n",
       "      <th>keras</th>\n",
       "      <td>935</td>\n",
       "      <td>268608.0</td>\n",
       "    </tr>\n",
       "    <tr>\n",
       "      <th>neural-network</th>\n",
       "      <td>1055</td>\n",
       "      <td>185367.0</td>\n",
       "    </tr>\n",
       "    <tr>\n",
       "      <th>deep-learning</th>\n",
       "      <td>1220</td>\n",
       "      <td>233628.0</td>\n",
       "    </tr>\n",
       "    <tr>\n",
       "      <th>python</th>\n",
       "      <td>1814</td>\n",
       "      <td>537585.0</td>\n",
       "    </tr>\n",
       "    <tr>\n",
       "      <th>machine-learning</th>\n",
       "      <td>2693</td>\n",
       "      <td>388499.0</td>\n",
       "    </tr>\n",
       "  </tbody>\n",
       "</table>\n",
       "</div>"
      ],
      "text/plain": [
       "                        Count  ViewCount\n",
       "machine-learning-model    224        NaN\n",
       "statistics                234        NaN\n",
       "clustering                257    33928.0\n",
       "predictive-modeling       265        NaN\n",
       "r                         268        NaN\n",
       "dataset                   340    43151.0\n",
       "regression                347    49451.0\n",
       "pandas                    354   201787.0\n",
       "lstm                      402    74458.0\n",
       "time-series               466    64134.0\n",
       "cnn                       489    70349.0\n",
       "nlp                       493    71382.0\n",
       "scikit-learn              540   128110.0\n",
       "tensorflow                584   121369.0\n",
       "classification            685   104457.0\n",
       "keras                     935   268608.0\n",
       "neural-network           1055   185367.0\n",
       "deep-learning            1220   233628.0\n",
       "python                   1814   537585.0\n",
       "machine-learning         2693   388499.0"
      ]
     },
     "execution_count": 18,
     "metadata": {},
     "output_type": "execute_result"
    }
   ],
   "source": [
    "in_used = pd.merge(most_used, most_viewed, how=\"left\", left_index=True, right_index=True)\n",
    "in_used"
   ]
  },
  {
   "cell_type": "markdown",
   "metadata": {},
   "source": [
    "Tags are in most_viewed, but not in most_used."
   ]
  },
  {
   "cell_type": "code",
   "execution_count": 19,
   "metadata": {
    "collapsed": false
   },
   "outputs": [
    {
     "data": {
      "text/html": [
       "<div>\n",
       "<style scoped>\n",
       "    .dataframe tbody tr th:only-of-type {\n",
       "        vertical-align: middle;\n",
       "    }\n",
       "\n",
       "    .dataframe tbody tr th {\n",
       "        vertical-align: top;\n",
       "    }\n",
       "\n",
       "    .dataframe thead th {\n",
       "        text-align: right;\n",
       "    }\n",
       "</style>\n",
       "<table border=\"1\" class=\"dataframe\">\n",
       "  <thead>\n",
       "    <tr style=\"text-align: right;\">\n",
       "      <th></th>\n",
       "      <th>Count</th>\n",
       "      <th>ViewCount</th>\n",
       "    </tr>\n",
       "  </thead>\n",
       "  <tbody>\n",
       "    <tr>\n",
       "      <th>clustering</th>\n",
       "      <td>257.0</td>\n",
       "      <td>33928</td>\n",
       "    </tr>\n",
       "    <tr>\n",
       "      <th>csv</th>\n",
       "      <td>NaN</td>\n",
       "      <td>38654</td>\n",
       "    </tr>\n",
       "    <tr>\n",
       "      <th>pytorch</th>\n",
       "      <td>NaN</td>\n",
       "      <td>40240</td>\n",
       "    </tr>\n",
       "    <tr>\n",
       "      <th>dataset</th>\n",
       "      <td>340.0</td>\n",
       "      <td>43151</td>\n",
       "    </tr>\n",
       "    <tr>\n",
       "      <th>regression</th>\n",
       "      <td>347.0</td>\n",
       "      <td>49451</td>\n",
       "    </tr>\n",
       "    <tr>\n",
       "      <th>numpy</th>\n",
       "      <td>NaN</td>\n",
       "      <td>49767</td>\n",
       "    </tr>\n",
       "    <tr>\n",
       "      <th>time-series</th>\n",
       "      <td>466.0</td>\n",
       "      <td>64134</td>\n",
       "    </tr>\n",
       "    <tr>\n",
       "      <th>cnn</th>\n",
       "      <td>489.0</td>\n",
       "      <td>70349</td>\n",
       "    </tr>\n",
       "    <tr>\n",
       "      <th>nlp</th>\n",
       "      <td>493.0</td>\n",
       "      <td>71382</td>\n",
       "    </tr>\n",
       "    <tr>\n",
       "      <th>lstm</th>\n",
       "      <td>402.0</td>\n",
       "      <td>74458</td>\n",
       "    </tr>\n",
       "    <tr>\n",
       "      <th>dataframe</th>\n",
       "      <td>NaN</td>\n",
       "      <td>89352</td>\n",
       "    </tr>\n",
       "    <tr>\n",
       "      <th>classification</th>\n",
       "      <td>685.0</td>\n",
       "      <td>104457</td>\n",
       "    </tr>\n",
       "    <tr>\n",
       "      <th>tensorflow</th>\n",
       "      <td>584.0</td>\n",
       "      <td>121369</td>\n",
       "    </tr>\n",
       "    <tr>\n",
       "      <th>scikit-learn</th>\n",
       "      <td>540.0</td>\n",
       "      <td>128110</td>\n",
       "    </tr>\n",
       "    <tr>\n",
       "      <th>neural-network</th>\n",
       "      <td>1055.0</td>\n",
       "      <td>185367</td>\n",
       "    </tr>\n",
       "    <tr>\n",
       "      <th>pandas</th>\n",
       "      <td>354.0</td>\n",
       "      <td>201787</td>\n",
       "    </tr>\n",
       "    <tr>\n",
       "      <th>deep-learning</th>\n",
       "      <td>1220.0</td>\n",
       "      <td>233628</td>\n",
       "    </tr>\n",
       "    <tr>\n",
       "      <th>keras</th>\n",
       "      <td>935.0</td>\n",
       "      <td>268608</td>\n",
       "    </tr>\n",
       "    <tr>\n",
       "      <th>machine-learning</th>\n",
       "      <td>2693.0</td>\n",
       "      <td>388499</td>\n",
       "    </tr>\n",
       "    <tr>\n",
       "      <th>python</th>\n",
       "      <td>1814.0</td>\n",
       "      <td>537585</td>\n",
       "    </tr>\n",
       "  </tbody>\n",
       "</table>\n",
       "</div>"
      ],
      "text/plain": [
       "                   Count  ViewCount\n",
       "clustering         257.0      33928\n",
       "csv                  NaN      38654\n",
       "pytorch              NaN      40240\n",
       "dataset            340.0      43151\n",
       "regression         347.0      49451\n",
       "numpy                NaN      49767\n",
       "time-series        466.0      64134\n",
       "cnn                489.0      70349\n",
       "nlp                493.0      71382\n",
       "lstm               402.0      74458\n",
       "dataframe            NaN      89352\n",
       "classification     685.0     104457\n",
       "tensorflow         584.0     121369\n",
       "scikit-learn       540.0     128110\n",
       "neural-network    1055.0     185367\n",
       "pandas             354.0     201787\n",
       "deep-learning     1220.0     233628\n",
       "keras              935.0     268608\n",
       "machine-learning  2693.0     388499\n",
       "python            1814.0     537585"
      ]
     },
     "execution_count": 19,
     "metadata": {},
     "output_type": "execute_result"
    }
   ],
   "source": [
    "pd.merge(most_used, most_viewed, how=\"right\", left_index=True, right_index=True)"
   ]
  },
  {
   "cell_type": "markdown",
   "metadata": {},
   "source": [
    "#### Relations Between Tags\n"
   ]
  },
  {
   "cell_type": "markdown",
   "metadata": {},
   "source": [
    "Create a list of all tags to count how many times each pair of tags appears together. This will allow us to know how pairs of tags are related to each other."
   ]
  },
  {
   "cell_type": "code",
   "execution_count": 20,
   "metadata": {
    "collapsed": false
   },
   "outputs": [
    {
     "data": {
      "text/plain": [
       "['least-squares-svm',\n",
       " 'graphs',\n",
       " 'torch',\n",
       " 'spss',\n",
       " 'class-imbalance',\n",
       " 'hive',\n",
       " 'market-basket-analysis',\n",
       " 'label-flipping',\n",
       " '.net',\n",
       " 'redshift',\n",
       " 'attention-mechanism',\n",
       " 'numerical',\n",
       " 'probability-calibration',\n",
       " 'arima',\n",
       " 'data-transfer',\n",
       " 'python',\n",
       " 'inception',\n",
       " 'orange',\n",
       " 'hyperparameter-tuning',\n",
       " 'mcmc']"
      ]
     },
     "execution_count": 20,
     "metadata": {},
     "output_type": "execute_result"
    }
   ],
   "source": [
    "all_tags = list(tags_count.index)\n",
    "all_tags[:20]"
   ]
  },
  {
   "cell_type": "markdown",
   "metadata": {},
   "source": [
    "Create a dataframe where each row will represent a tag, and each column as well."
   ]
  },
  {
   "cell_type": "code",
   "execution_count": null,
   "metadata": {
    "collapsed": false
   },
   "outputs": [
    {
     "data": {
      "text/html": [
       "<div>\n",
       "<style scoped>\n",
       "    .dataframe tbody tr th:only-of-type {\n",
       "        vertical-align: middle;\n",
       "    }\n",
       "\n",
       "    .dataframe tbody tr th {\n",
       "        vertical-align: top;\n",
       "    }\n",
       "\n",
       "    .dataframe thead th {\n",
       "        text-align: right;\n",
       "    }\n",
       "</style>\n",
       "<table border=\"1\" class=\"dataframe\">\n",
       "  <thead>\n",
       "    <tr style=\"text-align: right;\">\n",
       "      <th></th>\n",
       "      <th>least-squares-svm</th>\n",
       "      <th>graphs</th>\n",
       "      <th>torch</th>\n",
       "      <th>spss</th>\n",
       "      <th>class-imbalance</th>\n",
       "    </tr>\n",
       "  </thead>\n",
       "  <tbody>\n",
       "    <tr>\n",
       "      <th>least-squares-svm</th>\n",
       "      <td>NaN</td>\n",
       "      <td>NaN</td>\n",
       "      <td>NaN</td>\n",
       "      <td>NaN</td>\n",
       "      <td>NaN</td>\n",
       "    </tr>\n",
       "    <tr>\n",
       "      <th>graphs</th>\n",
       "      <td>NaN</td>\n",
       "      <td>NaN</td>\n",
       "      <td>NaN</td>\n",
       "      <td>NaN</td>\n",
       "      <td>NaN</td>\n",
       "    </tr>\n",
       "    <tr>\n",
       "      <th>torch</th>\n",
       "      <td>NaN</td>\n",
       "      <td>NaN</td>\n",
       "      <td>NaN</td>\n",
       "      <td>NaN</td>\n",
       "      <td>NaN</td>\n",
       "    </tr>\n",
       "    <tr>\n",
       "      <th>spss</th>\n",
       "      <td>NaN</td>\n",
       "      <td>NaN</td>\n",
       "      <td>NaN</td>\n",
       "      <td>NaN</td>\n",
       "      <td>NaN</td>\n",
       "    </tr>\n",
       "    <tr>\n",
       "      <th>class-imbalance</th>\n",
       "      <td>NaN</td>\n",
       "      <td>NaN</td>\n",
       "      <td>NaN</td>\n",
       "      <td>NaN</td>\n",
       "      <td>NaN</td>\n",
       "    </tr>\n",
       "  </tbody>\n",
       "</table>\n",
       "</div>"
      ],
      "text/plain": [
       "                  least-squares-svm graphs torch spss class-imbalance\n",
       "least-squares-svm               NaN    NaN   NaN  NaN             NaN\n",
       "graphs                          NaN    NaN   NaN  NaN             NaN\n",
       "torch                           NaN    NaN   NaN  NaN             NaN\n",
       "spss                            NaN    NaN   NaN  NaN             NaN\n",
       "class-imbalance                 NaN    NaN   NaN  NaN             NaN"
      ]
     },
     "execution_count": 21,
     "metadata": {},
     "output_type": "execute_result"
    }
   ],
   "source": [
    "associations = pd.DataFrame(index=all_tags, columns=all_tags)\n",
    "associations.iloc[0:5,0:5]"
   ]
  },
  {
   "cell_type": "markdown",
   "metadata": {},
   "source": [
    "Fill the associations dataframe with zeroes and then, for each lists of tags in df[\"Tags\"], we will increment the intervening tags by one. The end result will be a dataframe that for each pair of tags, it tells us how many times they were used together."
   ]
  },
  {
   "cell_type": "code",
   "execution_count": null,
   "metadata": {
    "collapsed": false
   },
   "outputs": [],
   "source": [
    "associations.fillna(0, inplace=True)\n",
    "\n",
    "for tag in df[\"Tags\"]:\n",
    "    associations.loc[tag, tag] += 1\n"
   ]
  },
  {
   "cell_type": "markdown",
   "metadata": {},
   "source": [
    "We will focus our attention on the most used tags. We'll add some colors to make it easier to talk about the dataframe."
   ]
  },
  {
   "cell_type": "code",
   "execution_count": null,
   "metadata": {
    "collapsed": false
   },
   "outputs": [],
   "source": [
    "relations_most_used = associations.loc[most_used.index, most_used.index]\n",
    "\n",
    "def style_cells(x):\n",
    "    helper_df = pd.DataFrame('', index=x.index, columns=x.columns)\n",
    "    helper_df.loc[\"time-series\", \"r\"] = \"background-color: yellow\"\n",
    "    helper_df.loc[\"r\", \"time-series\"] = \"background-color: yellow\"\n",
    "    for k in range(helper_df.shape[0]):\n",
    "        helper_df.iloc[k,k] = \"color: blue\"\n",
    "    \n",
    "    return helper_df\n",
    "\n",
    "relations_most_used.style.apply(style_cells, axis=None)"
   ]
  },
  {
   "cell_type": "markdown",
   "metadata": {},
   "source": [
    "The cells highlighted in yellow tell us that time-series was used together with r 22 times. The values in blue tell us how many times each of the tags was used. We saw earlier that machine-learning was used 2693 times and we confirm it in this dataframe.\n",
    "\n",
    "It's hard for a human to understand what is going on in this dataframe. Let's create a heatmap. But before we do it, let's get rid of the values in blue, otherwise the colors will be too skewed."
   ]
  },
  {
   "cell_type": "code",
   "execution_count": null,
   "metadata": {
    "collapsed": true
   },
   "outputs": [],
   "source": [
    "for i in range(relations_most_used.shape[0]):\n",
    "    relations_most_used.iloc[i,i] = pd.np.NaN"
   ]
  },
  {
   "cell_type": "code",
   "execution_count": null,
   "metadata": {
    "collapsed": false
   },
   "outputs": [],
   "source": [
    "plt.figure(figsize=(12,8))\n",
    "sns.heatmap(relations_most_used, cmap=\"Greens\", annot=False)"
   ]
  },
  {
   "cell_type": "markdown",
   "metadata": {},
   "source": [
    "The most used tags also seem to have the strongest relationships, as given by the dark concentration in the bottom right corner. However, this could simply be because each of these tags is used a lot, and so end up being used together a lot without possibly even having any strong relation between them."
   ]
  },
  {
   "cell_type": "code",
   "execution_count": null,
   "metadata": {
    "collapsed": true
   },
   "outputs": [],
   "source": []
  },
  {
   "cell_type": "code",
   "execution_count": null,
   "metadata": {
    "collapsed": true
   },
   "outputs": [],
   "source": []
  }
 ],
 "metadata": {
  "kernelspec": {
   "display_name": "Python 3",
   "language": "python",
   "name": "python3"
  },
  "language_info": {
   "codemirror_mode": {
    "name": "ipython",
    "version": 3
   },
   "file_extension": ".py",
   "mimetype": "text/x-python",
   "name": "python",
   "nbconvert_exporter": "python",
   "pygments_lexer": "ipython3",
   "version": "3.4.3"
  }
 },
 "nbformat": 4,
 "nbformat_minor": 2
}
